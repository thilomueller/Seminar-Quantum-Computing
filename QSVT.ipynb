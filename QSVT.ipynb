{
 "cells": [
  {
   "attachments": {},
   "cell_type": "markdown",
   "metadata": {},
   "source": [
    "# Quantum Algorithms using QSVT\n",
    "As of today, there are roughly three big classes of quantum algorithms which are believed to bring a computational advantage over classical computers and form the basis of many other popular quantum algorihtms: phase estimation, unstructured search, and Hamiltonian simulation. While they seem to have not much in common, it turned out that they can actually be unified through a mathematical framework called the quantum singular value transformation (QSVT). The fact that these seemingly unrelated algorithms can all be derived from the QSVT has led to the believe that other algorithms could be derived from it as well. \n",
    "This notebook is primarily based on the Grand Unification paper [[1]](#grand_unification).\n",
    "\n",
    "In essence, QSVT transforms all the singular values of a block-encoded input matrix by some polynomial function that can be defined beforehand through a set of phase angles. QSVT combines the idea of quantum signal processing (QSP), which applies a polynomial transformation to one input value, and a technique called qubitization to extend it to a higher-dimensional setup."
   ]
  },
  {
   "cell_type": "code",
   "execution_count": 29,
   "metadata": {},
   "outputs": [],
   "source": [
    "from qiskit import *\n",
    "from qiskit import Aer\n",
    "\n",
    "from qiskit.circuit.library.standard_gates import XGate, MCXGate\n",
    "from qiskit.extensions import UnitaryGate\n",
    "from qiskit.quantum_info import Statevector\n",
    "from qiskit.tools.jupyter import *\n",
    "from qiskit.visualization import *\n",
    "\n",
    "from qiskit.circuit import Parameter\n",
    "from qiskit.quantum_info import Statevector\n",
    "from qiskit.opflow import I, X, PrimitiveOp\n",
    "\n",
    "import numpy as np\n",
    "from scipy.linalg import expm, sinm, cosm, sqrtm\n",
    "import matplotlib.pyplot as plt\n",
    "\n",
    "# custom utility functions\n",
    "from util import *"
   ]
  },
  {
   "attachments": {},
   "cell_type": "markdown",
   "metadata": {},
   "source": [
    "# Quantum Signal Processing\n",
    "QSP is essentially an alternating sequence of two different operations:"
   ]
  },
  {
   "attachments": {},
   "cell_type": "markdown",
   "metadata": {},
   "source": [
    "The **signal rotation operator** is defined as follows for a fixed input signal $a \\in [-1,1]$:\n",
    "$$\n",
    "W(a) = \n",
    "\\begin{bmatrix}\n",
    "a & i\\sqrt{1-a^2} \\\\\n",
    "i\\sqrt{1-a^2} & a\n",
    "\\end{bmatrix}\n",
    "$$\n",
    "In the Bloch sphere, it can be seen as an x rotation by angle $\\theta = -2 \\cdot \\arccos(a)$."
   ]
  },
  {
   "cell_type": "code",
   "execution_count": 30,
   "metadata": {},
   "outputs": [],
   "source": [
    "def W(a):\n",
    "    \"\"\"\n",
    "    signal rotation operator\n",
    "    \"\"\"\n",
    "    return np.array([[a, 1j*np.sqrt(1-np.square(a)+0j)], [1j*np.sqrt(1-np.square(a)+0j), a]], dtype = 'complex_')"
   ]
  },
  {
   "attachments": {},
   "cell_type": "markdown",
   "metadata": {},
   "source": [
    "The **signal-processing rotation operator** is defined as:\n",
    "$$\n",
    "S(\\phi) = e^{i \\phi Z}\n",
    "=\n",
    "\\begin{bmatrix}\n",
    "e^{i\\phi} & 0 \\\\\n",
    "0 & e^{-i\\phi}\n",
    "\\end{bmatrix}\n",
    "$$\n",
    "This is really just a z rotation by angle $-2\\phi$. Each signal-processing rotation operator is parameterized by a phase angle $\\phi_k$"
   ]
  },
  {
   "cell_type": "code",
   "execution_count": 31,
   "metadata": {},
   "outputs": [],
   "source": [
    "def S(phi):\n",
    "    \"\"\"\n",
    "    signal processing operator\n",
    "    \"\"\"\n",
    "    return expm(1j*phi*Z_gate)"
   ]
  },
  {
   "attachments": {},
   "cell_type": "markdown",
   "metadata": {},
   "source": [
    "The repeated alternating multiplication of these operators results in a polynomial transformation of $a$ in the top-left entry (we don't really care about the other entries).\n",
    "$$\n",
    "U_{\\vec{\\phi}} = e^{i \\phi_0 Z} \\prod_{k=1}^d W(a) e^{i \\phi_k Z}\n",
    "=\n",
    "\\begin{bmatrix}\n",
    "P(a) & i Q(a) \\sqrt{1-a^1} \\\\\n",
    "i Q^{*}(a) \\sqrt{1-a^2} & P^{*}(a)\n",
    "\\end{bmatrix}\n",
    "$$\n",
    "The intuition behind this is that with every multiplication of the signal rotation operator, we increase the degree of the polynomial, and by interleaving it with the signal-processing rotation operator, we can influence the coefficients of the polynomial [[3]](#pennylane_tutorial).\n",
    "\n",
    "<img src=\"./images/QSP_circuit.svg\" alt=\"QSP circuit\" width=30%>"
   ]
  },
  {
   "cell_type": "code",
   "execution_count": 32,
   "metadata": {},
   "outputs": [],
   "source": [
    "def QSP(phi_vec, a):\n",
    "    \"\"\"\n",
    "    input: vector of phis, a\n",
    "    Performs the quantum signal processing \n",
    "    \"\"\"\n",
    "    result = S(phi_vec[0])\n",
    "    for k in range(1, len(phi_vec)):\n",
    "        result = result @ (W(a) @ S(phi_vec[k]))\n",
    "    return result"
   ]
  },
  {
   "attachments": {},
   "cell_type": "markdown",
   "metadata": {},
   "source": [
    "For a given vector of phase angles $\\vec{\\phi} \\in \\mathbb{R}^{d+1}$ and an input signal $a \\in [-1,1]$, there exist complex polynomials $P(a)$ and $Q(a)$ such that:\n",
    "1. $deg(P) \\le d$ and $deg(Q) \\le d -1$\n",
    "2. $P$ has parity $d \\mod 2$ and $Q$ has parity $d-1 \\mod 2$\n",
    "3. $|P|^2 + (1-a^2) |Q|^2 = 1$\n",
    "\n",
    "Interestingly, the converse is also true and we can find corresponding phase angles for any polynomial that obeys the above mentioned restrictions. In fact, there are methods to determine those phase angles automatically  [[4]](#qsp_angles)."
   ]
  },
  {
   "attachments": {},
   "cell_type": "markdown",
   "metadata": {},
   "source": [
    "## Trivial Example\n",
    "Let us consider the example of $\\vec{\\phi} = (0,0)$:\n",
    "$$\n",
    "U_{\\vec{\\phi}}\n",
    "=\n",
    "\\begin{bmatrix}\n",
    "a & i\\sqrt{1-a^2} \\\\\n",
    "i\\sqrt{1-a^2} & a\n",
    "\\end{bmatrix}\n",
    "\\cdot\n",
    "\\begin{bmatrix}\n",
    "a & i\\sqrt{1-a^2} \\\\\n",
    "i\\sqrt{1-a^2} & a\n",
    "\\end{bmatrix}\n",
    "=\n",
    "\\begin{bmatrix}\n",
    "2a^2-1 & 2ai\\sqrt{1-a^2} \\\\\n",
    "2ai\\sqrt{1-a^2} & 2a^2-1\n",
    "\\end{bmatrix}\n",
    "$$\n",
    "\n",
    "$$\n",
    "\\left< 0 \\middle| U_{\\vec{\\phi}} \\middle| 0 \\right> = 2a^2-1\n",
    "$$"
   ]
  },
  {
   "attachments": {},
   "cell_type": "markdown",
   "metadata": {},
   "source": [
    "## BB1 Example\n",
    "The BB1 pulse sequence is originally magnetic resonance imaging to increase image contrast. It is defined by the following phase angles:\n",
    "$ \\vec{\\phi} = (\\pi/2, -\\eta, 2\\eta, 0, -2\\eta, \\eta) $ with $ \\eta = \\frac{1}{2} \\cdot \\arccos(-\\frac14) $.\n",
    "If we plot the probability $p = |\\braket{0 | U_{\\vec{\\phi}} | 0}|^2$, we can see that with very high probability, the state $\\ket{0}$ remains unchanged for a wide range of iniput signals."
   ]
  },
  {
   "cell_type": "code",
   "execution_count": 33,
   "metadata": {},
   "outputs": [
    {
     "data": {
      "image/png": "[encoded data removed]",
      "text/plain": [
       "<Figure size 640x480 with 1 Axes>"
      ]
     },
     "metadata": {},
     "output_type": "display_data"
    }
   ],
   "source": [
    "eta = 1/2 * np.arccos(-1/4)\n",
    "phi_vec_bb1 = [np.pi/2, -eta, 2*eta, 0, -2*eta, eta]\n",
    "\n",
    "theta_vec = np.arange(start=-np.pi, stop=np.pi, step=0.1)\n",
    "a_vec = [np.cos(-1/2*theta) for theta in theta_vec]\n",
    "\n",
    "p = [np.square(np.abs(QSP(phi_vec_bb1, a)[0][0])) for a in a_vec]\n",
    "\n",
    "plt.plot(theta_vec, p)\n",
    "plt.xlabel(r\"$\\theta$\")\n",
    "plt.ylabel(r\"$| \\langle 0| U_{\\vec{\\phi}} |0 \\rangle |^2$\")\n",
    "plt.show()"
   ]
  },
  {
   "attachments": {},
   "cell_type": "markdown",
   "metadata": {},
   "source": [
    "# Extension to multi-qubit case\n",
    "As a next step, instead of transforming just one scalar, we want to polynomially transform a whole matrix.\n",
    "\n",
    "## Block-encoding\n",
    "The first problem we need to solve is that a general matrix is not necessarily unitary which is required in order for it to be considered a quantum operator. To circumvent this issue, we can just block-encode this matrix inside a larger matrix $U$ which will be unitary.\n",
    "$$\n",
    "U =\n",
    "\\begin{bmatrix}\n",
    "A & \\cdot \\\\\n",
    "\\cdot & \\cdot\n",
    "\\end{bmatrix}\n",
    "$$\n",
    "Finding a block-encoding for a general matrix is not a trivial task. However, if $A$ is a square matrix, we can use the following block-encoding:\n",
    "$$\n",
    "U\n",
    "=\n",
    "\\begin{bmatrix}\n",
    "A & \\sqrt{I - A^2} \\\\\n",
    "\\sqrt{I - A^2} & -A\n",
    "\\end{bmatrix}\n",
    "$$"
   ]
  },
  {
   "cell_type": "code",
   "execution_count": 34,
   "metadata": {},
   "outputs": [],
   "source": [
    "def block_encode(H):\n",
    "    \"\"\"\n",
    "    returns a block-encoding for a Hermitian matrix H\n",
    "    \"\"\"\n",
    "    return np.kron(Z_gate, H) + np.kron(X_gate, sqrtm(np.eye(H.shape[0]) - H @ H))"
   ]
  },
  {
   "attachments": {},
   "cell_type": "markdown",
   "metadata": {},
   "source": [
    "## Generalization of the signal-processing rotation operator\n",
    "Any matrix $A$ can be decomposed into $A = U \\Sigma V^*$ where $\\Sigma$ is a diagonal matrix containing the singular values of $A$. This process is called the singular value decomposition (SVD). Transforming a matrix is equivalent to just transform all of its singular values in the SVD decomposition. Therefore, if we want to extend QSP to the higher-dimensional case, we need to apply the phase $e^{i\\phi}$ to all of the singular values of the block-encoded matrix. We do that by introducing a so called **projector-controlled phase gate**:\n",
    "$$\n",
    "\\Pi_{\\phi} = e^{i\\phi (2 \\Pi - I)}\n",
    "$$\n",
    "In a quantum circuit, $\\Pi_{\\phi}$ is implemented using the standard single-qubit signal-processing rotation operator wrapped by two projector-controlled NOT-gates, which apply an $X$ gate on the auxiliary qubit if the projector qubits are in the desired state.\n",
    "\n",
    "<img src=\"./images/projector-controlled_phase_gate.svg\" alt=\"projector-controlled phase gate circuit\" width=15%>\n",
    "\n",
    "We can use the same phase angles as for the QSP but only need to substract a phase difference."
   ]
  },
  {
   "cell_type": "code",
   "execution_count": 35,
   "metadata": {},
   "outputs": [],
   "source": [
    "def phase_diff(d):\n",
    "    \"\"\"\n",
    "    Calculates the phase difference between QSP and QSVT phase angles\n",
    "    \"\"\"\n",
    "    return np.array([np.pi/4] + (d-1)*[np.pi/2] + [np.pi/4])"
   ]
  },
  {
   "attachments": {},
   "cell_type": "markdown",
   "metadata": {},
   "source": [
    "# Quantum Eigenvalue Transformation\n",
    "Before we come to the more general QSVT, let us first look at the quantum eigenvalue transformation (QEVT), which is a special case of the QSVT. We can use the QEVT if we want to transform a Hermitian matrix $\\mathcal{H}$ instead of a general matrix.\n",
    "In the case that we use the block-encoding as defined above, i.e. we only have one auxiliary qubit, we can access our matrix within the block-encoding using the projector $\\Pi = \\ket{0}\\bra{0}$. Thus, the projector-controlled phase gate becomes:\n",
    "\n",
    "<img src=\"./images/projector-controlled_phase_gate_one_aux_qubit.svg\" alt=\"circuit ofprojector-controlled phase gate acting on one auxiliary qubit\" width=15%>\n",
    "\n",
    "Putting it all together we arrive at:\n",
    "\n",
    "$$\n",
    "\\begin{align*}\n",
    "U_{\\vec{\\phi}}^{(QEVT)}\n",
    "&=\n",
    "\\begin{cases}\n",
    "\\begin{aligned}\n",
    "\\left[ \\prod_{k=1}^{d/2} \\Pi_{\\phi_{2k-1}} U^{\\dagger} \\Pi_{\\phi_{2k}} U \\right]\n",
    "\\end{aligned}\n",
    "& \\text{for $d$ even}\n",
    "\\\\[20pt]\n",
    "\\begin{aligned}\n",
    "\\Pi_{\\phi_1} U \\left[ \\prod_{k=1}^{(d-1)/2} \\Pi_{\\phi_{2k}} U^{\\dagger} \\Pi_{\\phi_{2k+1}} U \\right]\n",
    "\\end{aligned}\n",
    "& \\text{for $d$ odd}\n",
    "\\end{cases}\n",
    "\\\\[40pt]\n",
    "&=\n",
    "\\begin{bmatrix}\n",
    "\\textrm{Poly}(A) & \\cdot \\\\\n",
    "\\cdot & \\cdot\n",
    "\\end{bmatrix}\n",
    "\\end{align*}\n",
    "$$\n",
    "\n",
    "Since any Hermitian matrix is equal to its adjoint by definition, we no longer have to alternate between the two cases and can simplify the calculation to:\n",
    "$$\n",
    "U_{\\vec{\\phi}}^{(QEVT)}\n",
    "=\n",
    "\\Pi_{\\phi_0} \\prod_{k=1}^{d} U \\Pi_{\\phi_{k}}\n",
    "$$"
   ]
  },
  {
   "cell_type": "code",
   "execution_count": 36,
   "metadata": {},
   "outputs": [],
   "source": [
    "def QEVT(phi_vec, H):\n",
    "    \"\"\"\n",
    "    Performs the quantum eigenvalue transformation for a matrix H\n",
    "    \"\"\"\n",
    "    assert H.shape[0] == H.shape[1], \"QEVT only supports square matrices\"\n",
    "\n",
    "    U = block_encode(H)\n",
    "\n",
    "    dim = H.shape[0]\n",
    "    d = len(phi_vec)\n",
    "\n",
    "    result = np.kron(expm(1j*phi_vec[0]*Z_gate), np.eye(dim))\n",
    "\n",
    "    for k in range(1, d):\n",
    "        result = result @ (U @ np.kron(expm(1j*phi_vec[k]*Z_gate), np.eye(dim)))\n",
    "    \n",
    "    return result"
   ]
  },
  {
   "attachments": {},
   "cell_type": "markdown",
   "metadata": {},
   "source": [
    "The overall circuit model for QEVT looks like this:\n",
    "\n",
    "<img src=\"./images/QEVT_circuit.svg\" alt=\"circuit of the QEVT\" width=50%>\n",
    "\n",
    "Using the fact that $e^{i\\phi (2\\ket{0}\\bra{0} - I)} = e^{i\\phi Z}$, we can simplify this to:\n",
    "\n",
    "<img src=\"./images/QEVT_circuit_simplified.svg\" alt=\"simplified circuit of the QEVT\" width=30%>"
   ]
  },
  {
   "attachments": {},
   "cell_type": "markdown",
   "metadata": {},
   "source": [
    "## Example: Eigenstate filtering\n",
    "One very natural application of the QEVT is eigenstate filtering where the goal is to filter out all the eigenvalues that lie above a certain threshold.\n",
    "As an example, consider the following Hamiltonian:\n",
    "$$\\mathcal{H} = \\frac{1}{10} \\cdot Z_1 \\otimes Y_2 \\otimes Z_3 + \\frac25 \\cdot X_1 \\otimes Y_2 \\otimes Y_3 - \\frac15 \\cdot Y_1 \\otimes Y_2 \\otimes Y_3 + \\frac{1}{20} \\cdot I_1 \\otimes Z_2 \\otimes X_3 + \\frac{9}{20} \\cdot I_1 \\otimes I_2 \\otimes I_3$$"
   ]
  },
  {
   "cell_type": "code",
   "execution_count": 37,
   "metadata": {},
   "outputs": [
    {
     "data": {
      "text/plain": [
       "0.8"
      ]
     },
     "execution_count": 37,
     "metadata": {},
     "output_type": "execute_result"
    }
   ],
   "source": [
    "H = 0.1 * np.kron(Z_gate, np.kron(Y_gate, Y_gate)) + 0.4 * np.kron(X_gate, np.kron(Y_gate, Y_gate)) - 0.2 * np.kron(Y_gate, np.kron(Y_gate, Y_gate)) + 0.05 * np.kron(np.eye(2), np.kron(Z_gate, X_gate)) + 0.45 * np.kron(np.eye(2), np.kron(np.eye(2), np.eye(2)))\n",
    "\n",
    "# norm of Hamiltonian mus be smaller than 1\n",
    "H = H / (1.25 * np.linalg.norm(H))\n",
    "np.linalg.norm(H)"
   ]
  },
  {
   "attachments": {},
   "cell_type": "markdown",
   "metadata": {},
   "source": [
    "Rescaling this Hamiltonian such that $\\lVert {\\mathcal{H}} \\rVert \\le 1$, we can block encode it as defined previously:\n",
    "$$\n",
    "U\n",
    "=\n",
    "\\begin{bmatrix}\n",
    "\\mathcal{H} & \\sqrt{I - \\mathcal{H}^2} \\\\\n",
    "\\sqrt{I - \\mathcal{H}^2} & -\\mathcal{H}\n",
    "\\end{bmatrix}\n",
    "=\n",
    "Z \\otimes \\mathcal{H} + X \\otimes \\sqrt{\\mathcal{I} - \\mathcal{H}^2}\n",
    "$$"
   ]
  },
  {
   "cell_type": "code",
   "execution_count": 38,
   "metadata": {},
   "outputs": [],
   "source": [
    "U = block_encode(H)"
   ]
  },
  {
   "attachments": {},
   "cell_type": "markdown",
   "metadata": {},
   "source": [
    "We can verify that $U$ is indeed unitary, i.e. $UU^{\\dagger} = U^{\\dagger}U =  I$, and that the spectral norm equals to 1."
   ]
  },
  {
   "cell_type": "code",
   "execution_count": 39,
   "metadata": {},
   "outputs": [
    {
     "name": "stdout",
     "output_type": "stream",
     "text": [
      "U is unitary: True\n",
      "|U| = 1.0000000000000007\n"
     ]
    }
   ],
   "source": [
    "print(\"U is unitary: \" + str(np.allclose(U @ U.conj().T, np.identity(U.shape[0]))))\n",
    "print(\"|U| = \" + str(np.linalg.norm(U,2)))"
   ]
  },
  {
   "attachments": {},
   "cell_type": "markdown",
   "metadata": {},
   "source": [
    "For our example Hamiltonian, the eigenvalues are shown in the following plot. We want to keep only those that smaller than $\\lambda_{\\text{th}} = 0.15$ and filter out all those that are above that threshold."
   ]
  },
  {
   "cell_type": "code",
   "execution_count": 40,
   "metadata": {},
   "outputs": [
    {
     "data": {
      "image/png": "[encoded data removed]",
      "text/plain": [
       "<Figure size 640x480 with 1 Axes>"
      ]
     },
     "metadata": {},
     "output_type": "display_data"
    }
   ],
   "source": [
    "λ, v = np.linalg.eigh(H)\n",
    "plt.plot(λ, \".\", label=\"Eigenvalues of H\")\n",
    "plt.axhline(y = 0.15, color = \"r\", linestyle = \"dashed\", label=\"Threshold\")    \n",
    "plt.xticks(np.arange(len(λ)), [\"$\\lambda_\" + str(i+1) + \"$\" for i in range(len(λ))])\n",
    "plt.legend(loc=\"upper left\")\n",
    "plt.title(\"Eigenvalues of Hamiltonian\")\n",
    "plt.show()"
   ]
  },
  {
   "attachments": {},
   "cell_type": "markdown",
   "metadata": {},
   "source": [
    "The eigenstate filtering can be realized by applying the eigenvalues to a step-function that evaluates to one if the input is below the threshold and zero otherwise. However, since the step-function has neither odd or even parity, we need to consider an symmetrized version instead. We can calculate the respective phase angles using the [pyqsp package](https://github.com/ichuang/pyqsp)\n",
    "."
   ]
  },
  {
   "cell_type": "code",
   "execution_count": 41,
   "metadata": {},
   "outputs": [
    {
     "name": "stdout",
     "output_type": "stream",
     "text": [
      "[pyqsp.poly.PolyEfilter] degree=30, delta=0.3\n",
      "[PolyTaylorSeries] max [0.94955034] is at [2.19000128e-08]: normalizing\n",
      "[PolyTaylorSeries] average error = 0.009629178075583878 in the domain [-1, 1] using degree 30\n"
     ]
    },
    {
     "data": {
      "text/plain": [
       "<matplotlib.legend.Legend at 0x294729ccd90>"
      ]
     },
     "execution_count": 41,
     "metadata": {},
     "output_type": "execute_result"
    },
    {
     "data": {
      "image/png": "[encoded data removed]",
      "text/plain": [
       "<Figure size 640x480 with 1 Axes>"
      ]
     },
     "metadata": {},
     "output_type": "display_data"
    }
   ],
   "source": [
    "import pyqsp\n",
    "from pyqsp.angle_sequence import QuantumSignalProcessingPhases\n",
    "\n",
    "pg = pyqsp.poly.PolyEigenstateFiltering()\n",
    "pcoeffs, scale = pg.generate(30, 0.3, ensure_bounded=True, return_scale=True)\n",
    "ang_seq = QuantumSignalProcessingPhases(pcoeffs, signal_operator=\"Wz\")\n",
    "d = len(ang_seq) - 1\n",
    "ang_seq_QEVT = ang_seq - phase_diff(d)\n",
    "\n",
    "poly_filt = np.polynomial.Polynomial(pcoeffs)\n",
    "poly_filt.degree()\n",
    "\n",
    "a_list = np.linspace(-1, 1, 201)\n",
    "plt.plot(a_list, poly_filt(a_list), \"g\", label=\"Re[Poly(a)]\")\n",
    "\n",
    "\n",
    "def target_filt(x, delta, scale=1):\n",
    "    \"\"\"\n",
    "    Target function for eigenvalue filtering.\n",
    "    \"\"\"\n",
    "    return scale * (np.sign(x + 0.5*delta) - np.sign(x - 0.5*delta)) / 2\n",
    "\n",
    "plt.plot(a_list, target_filt(a_list, 0.3, scale=0.9), \"--\", label=\"target function\")\n",
    "plt.xlabel(\"a\")\n",
    "plt.legend(loc=\"upper right\")"
   ]
  },
  {
   "attachments": {},
   "cell_type": "markdown",
   "metadata": {},
   "source": [
    "After applying the QEVT, we can see that the eigenvalues of the transformed matrix are just as expected:"
   ]
  },
  {
   "cell_type": "code",
   "execution_count": 42,
   "metadata": {},
   "outputs": [
    {
     "name": "stdout",
     "output_type": "stream",
     "text": [
      "λ: [ 0.95115064-0.j  0.94911373-0.j  0.8728914 -0.j  0.85758775-0.j\n",
      " -0.00131123+0.j -0.01097495+0.j -0.0795625 +0.j -0.10250956+0.j]\n"
     ]
    },
    {
     "data": {
      "image/png": "[encoded data removed]",
      "text/plain": [
       "<Figure size 640x480 with 1 Axes>"
      ]
     },
     "metadata": {},
     "output_type": "display_data"
    }
   ],
   "source": [
    "# apply QEVT\n",
    "Poly_H = QEVT(ang_seq_QEVT, H)[0:8, 0:8]\n",
    "\n",
    "# calculate eigenvalues\n",
    "λ, v = np.linalg.eigh(Poly_H)\n",
    "\n",
    "# apply global phase\n",
    "λ = λ*((-1j)**(len(ang_seq)-1))\n",
    "\n",
    "plt.plot(λ, \".\")\n",
    "plt.xticks(np.arange(len(λ)), ['$\\lambda_' + str(i+1) + '$' for i in range(len(λ))]) \n",
    "plt.title(\"Eigenvalues of Hamiltonian after QEVT\")\n",
    "plt.show()"
   ]
  },
  {
   "attachments": {},
   "cell_type": "markdown",
   "metadata": {},
   "source": [
    "# Quantum Singular Value Transformation\n",
    "In the case of the QSVT, the simplifying assumptions of the QEVT no longer hold.\n",
    "First of all, the matrix to transform does not necessarily have to be square which means that more sophisticated block-encodings might be required.\n",
    "\n",
    "<img src=\"./images/QSVT_circuit.svg\" alt=\"circuit of the QSVT\" width=50%>"
   ]
  },
  {
   "attachments": {},
   "cell_type": "markdown",
   "metadata": {},
   "source": [
    "References\n",
    "==========\n",
    "\n",
    "<a id=\"grand_unification\">[1]</a>:\n",
    "    John M. Martyn, Zane M. Rossi, Andrew K. Tan, and Isaac L. Chuang,\n",
    "    \\\"Grand Unification of Quantum Algorithms\\\", [PRX Quantum 2,\n",
    "    040203](https://journals.aps.org/prxquantum/abstract/10.1103/PRXQuantum.2.040203),\n",
    "    2021\n",
    "\n",
    "<a id=\"qsvt\">[2]</a>:\n",
    "    András Gilyén, Yuan Su, Guang Hao Low, Nathan Wiebe, \\\"Quantum\n",
    "    singular value transformation and beyond: exponential improvements\n",
    "    for quantum matrix arithmetics\\\", [Proceedings of the 51st Annual\n",
    "    ACM SIGACT Symposium on the Theory of\n",
    "    Computing](https://dl.acm.org/doi/abs/10.1145/3313276.3316366), 2019\n",
    "\n",
    "<a id=\"pennylane_tutorial\">[3]</a>:\n",
    "    Juan Miguel Arrazola,\n",
    "    \\\"Intro to QSVT\\\",\n",
    "    https://pennylane.ai/qml/demos/tutorial_intro_qsvt, 2023\n",
    "\n",
    "<a id=\"qsp_angles\">[4]</a>:\n",
    "   Rui Chao, Dawei Ding, András Gilyén, Cupjin Huang, and Mario Szegedy,\n",
    "    \\\" Finding Angles for Quantum Signal Processing with Machine Precision\\\",\n",
    "    [arXiv Preprint arXiv:2003.02831](https://arxiv.org/abs/2003.02831), 2020 "
   ]
  }
 ],
 "metadata": {
  "kernelspec": {
   "display_name": "Python 3",
   "language": "python",
   "name": "python3"
  },
  "language_info": {
   "codemirror_mode": {
    "name": "ipython",
    "version": 3
   },
   "file_extension": ".py",
   "mimetype": "text/x-python",
   "name": "python",
   "nbconvert_exporter": "python",
   "pygments_lexer": "ipython3",
   "version": "3.11.0"
  },
  "orig_nbformat": 4
 },
 "nbformat": 4,
 "nbformat_minor": 2
}
