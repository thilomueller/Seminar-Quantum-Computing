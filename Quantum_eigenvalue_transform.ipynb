{
 "cells": [
  {
   "cell_type": "code",
   "execution_count": 20,
   "metadata": {},
   "outputs": [],
   "source": [
    "import sympy as sp\n",
    "from sympy import *\n",
    "from sympy.plotting import plot\n",
    "from sympy.physics.quantum import TensorProduct\n",
    "\n",
    "\n",
    "import IPython.display as disp\n",
    "\n",
    "sp.init_printing(use_latex='mathjax')\n",
    "\n",
    "from qutip import *\n",
    "import numpy as np\n",
    "import matplotlib.pyplot as plt"
   ]
  },
  {
   "cell_type": "code",
   "execution_count": 21,
   "metadata": {},
   "outputs": [],
   "source": [
    "X_gate = sp.Matrix([[0, 1], [1, 0]])\n",
    "Y_gate = sp.Matrix([[0, -I], [I, 0]])\n",
    "Z_gate = sp.Matrix([[1, 0], [0, -1]])"
   ]
  },
  {
   "cell_type": "code",
   "execution_count": 22,
   "metadata": {},
   "outputs": [],
   "source": [
    "H = sp.Matrix([[1,0,0], [0,3,0], [0,0,-2]])\n",
    "H = H / H.norm()"
   ]
  },
  {
   "cell_type": "code",
   "execution_count": 23,
   "metadata": {},
   "outputs": [],
   "source": [
    "# block encoding\n",
    "def U(H):\n",
    "    return TensorProduct(Z_gate, H) + TensorProduct(X_gate, sp.sqrt(sp.Identity(H.shape[0]) - H**2).as_explicit())"
   ]
  },
  {
   "cell_type": "code",
   "execution_count": 24,
   "metadata": {},
   "outputs": [
    {
     "data": {
      "text/latex": [
       "$\\displaystyle \\left[\\begin{matrix}\\frac{\\sqrt{14}}{14} & 0 & 0 & \\frac{\\sqrt{182}}{14} & 0 & 0\\\\0 & \\frac{3 \\sqrt{14}}{14} & 0 & 0 & \\frac{\\sqrt{70}}{14} & 0\\\\0 & 0 & - \\frac{\\sqrt{14}}{7} & 0 & 0 & \\frac{\\sqrt{35}}{7}\\\\\\frac{\\sqrt{182}}{14} & 0 & 0 & - \\frac{\\sqrt{14}}{14} & 0 & 0\\\\0 & \\frac{\\sqrt{70}}{14} & 0 & 0 & - \\frac{3 \\sqrt{14}}{14} & 0\\\\0 & 0 & \\frac{\\sqrt{35}}{7} & 0 & 0 & \\frac{\\sqrt{14}}{7}\\end{matrix}\\right]$"
      ],
      "text/plain": [
       "⎡√14                 √182               ⎤\n",
       "⎢───     0      0    ────      0      0 ⎥\n",
       "⎢ 14                  14                ⎥\n",
       "⎢                                       ⎥\n",
       "⎢      3⋅√14                  √70       ⎥\n",
       "⎢ 0    ─────    0      0      ───     0 ⎥\n",
       "⎢        14                    14       ⎥\n",
       "⎢                                       ⎥\n",
       "⎢             -√14                   √35⎥\n",
       "⎢ 0      0    ─────    0       0     ───⎥\n",
       "⎢               7                     7 ⎥\n",
       "⎢                                       ⎥\n",
       "⎢√182                -√14               ⎥\n",
       "⎢────    0      0    ─────     0      0 ⎥\n",
       "⎢ 14                   14               ⎥\n",
       "⎢                                       ⎥\n",
       "⎢       √70                 -3⋅√14      ⎥\n",
       "⎢ 0     ───     0      0    ───────   0 ⎥\n",
       "⎢        14                    14       ⎥\n",
       "⎢                                       ⎥\n",
       "⎢              √35                   √14⎥\n",
       "⎢ 0      0     ───     0       0     ───⎥\n",
       "⎣               7                     7 ⎦"
      ]
     },
     "metadata": {},
     "output_type": "display_data"
    }
   ],
   "source": [
    "disp.display(U(H))"
   ]
  },
  {
   "cell_type": "code",
   "execution_count": 25,
   "metadata": {},
   "outputs": [],
   "source": [
    "projector = sp.Symbol('\\Pi')\n",
    "projector = P = sp.BlockMatrix([[sp.Identity(3), sp.ZeroMatrix(3,3)], [sp.ZeroMatrix(3,3), sp.ZeroMatrix(3,3)]]).as_explicit()\n",
    "\n",
    "phase_shift = sp.Symbol('\\Pi_{\\phi}')\n",
    "def phase_shift(phi):\n",
    "    return sp.exp(I * phi * (2*projector - sp.Identity(projector.shape[0])).as_explicit())"
   ]
  },
  {
   "cell_type": "code",
   "execution_count": 26,
   "metadata": {},
   "outputs": [],
   "source": [
    "P = sp.BlockMatrix([[sp.Identity(3), sp.ZeroMatrix(3,3)], [sp.ZeroMatrix(3,3), sp.ZeroMatrix(3,3)]]).as_explicit()"
   ]
  },
  {
   "cell_type": "code",
   "execution_count": 27,
   "metadata": {},
   "outputs": [],
   "source": [
    "def eigenval_transform(H, phi_vector):\n",
    "    #U = U(H)\n",
    "    U = TensorProduct(Z_gate, H) + TensorProduct(X_gate, sp.sqrt(sp.Identity(H.shape[0]) - H**2).as_explicit())\n",
    "    U_dagger =U.adjugate()\n",
    "    result = 1\n",
    "    for k in range(len(phi_vector)):\n",
    "        result *= phase_shift(2*phi_vector[k-1]) * U_dagger * phase_shift(2*phi_vector[k]) * U\n",
    "    return result"
   ]
  },
  {
   "cell_type": "code",
   "execution_count": 28,
   "metadata": {},
   "outputs": [],
   "source": [
    "eta = sp.Symbol('\\eta')\n",
    "eta = 1/2*sp.acos(-1/4)\n",
    "phi_vector_bb1 = sp.Matrix([sp.pi/2, -eta, 2*eta, 0, -2*eta, eta])"
   ]
  },
  {
   "cell_type": "code",
   "execution_count": 29,
   "metadata": {},
   "outputs": [
    {
     "data": {
      "text/latex": [
       "$\\displaystyle \\left[\\begin{matrix}0.3297306014716 - 0.21821777422404 i & 0 & 0 & 0 & 0 & 0\\\\0 & -0.223703961926456 - 0.472264634053453 i & 0 & 0 & 0 & 0\\\\0 & 0 & -0.600361625039041 - 0.552149932294451 i & 0 & 0 & 0\\\\0 & 0 & 0 & 0 & 0 & 0\\\\0 & 0 & 0 & 0 & 0 & 0\\\\0 & 0 & 0 & 0 & 0 & 0\\end{matrix}\\right]$"
      ],
      "text/plain": [
       "⎡0.3297306014716 - 0.21821777422404⋅ⅈ                     0                   \n",
       "⎢                                                                             \n",
       "⎢                 0                    -0.223703961926456 - 0.472264634053453⋅\n",
       "⎢                                                                             \n",
       "⎢                 0                                       0                   \n",
       "⎢                                                                             \n",
       "⎢                 0                                       0                   \n",
       "⎢                                                                             \n",
       "⎢                 0                                       0                   \n",
       "⎢                                                                             \n",
       "⎣                 0                                       0                   \n",
       "\n",
       "                      0                      0  0  0⎤\n",
       "                                                    ⎥\n",
       "ⅈ                     0                      0  0  0⎥\n",
       "                                                    ⎥\n",
       "   -0.600361625039041 - 0.552149932294451⋅ⅈ  0  0  0⎥\n",
       "                                                    ⎥\n",
       "                      0                      0  0  0⎥\n",
       "                                                    ⎥\n",
       "                      0                      0  0  0⎥\n",
       "                                                    ⎥\n",
       "                      0                      0  0  0⎦"
      ]
     },
     "metadata": {},
     "output_type": "display_data"
    }
   ],
   "source": [
    "U_trans = eigenval_transform(H, phi_vector_bb1)\n",
    "Poly_H = P * U_trans * P\n",
    "disp.display(Poly_H.simplify())"
   ]
  },
  {
   "cell_type": "code",
   "execution_count": 30,
   "metadata": {},
   "outputs": [
    {
     "data": {
      "text/latex": [
       "$\\displaystyle 1$"
      ],
      "text/plain": [
       "1"
      ]
     },
     "metadata": {},
     "output_type": "display_data"
    }
   ],
   "source": [
    "disp.display(H.norm())"
   ]
  },
  {
   "cell_type": "code",
   "execution_count": null,
   "metadata": {},
   "outputs": [],
   "source": []
  }
 ],
 "metadata": {
  "kernelspec": {
   "display_name": "Python 3",
   "language": "python",
   "name": "python3"
  },
  "language_info": {
   "codemirror_mode": {
    "name": "ipython",
    "version": 3
   },
   "file_extension": ".py",
   "mimetype": "text/x-python",
   "name": "python",
   "nbconvert_exporter": "python",
   "pygments_lexer": "ipython3",
   "version": "3.11.0"
  },
  "orig_nbformat": 4
 },
 "nbformat": 4,
 "nbformat_minor": 2
}
