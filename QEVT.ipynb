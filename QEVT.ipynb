{
 "cells": [
  {
   "attachments": {},
   "cell_type": "markdown",
   "metadata": {},
   "source": [
    "# Quantum Eigenvalue Transformation"
   ]
  },
  {
   "cell_type": "code",
   "execution_count": 1,
   "metadata": {},
   "outputs": [],
   "source": [
    "import numpy as np\n",
    "from scipy.linalg import expm, sinm, cosm, sqrtm\n",
    "import matplotlib.pyplot as plt"
   ]
  },
  {
   "cell_type": "code",
   "execution_count": 2,
   "metadata": {},
   "outputs": [],
   "source": [
    "X_gate = np.array([[0, 1], [1, 0]], dtype = 'complex_')\n",
    "Y_gate = np.array([[0, -1j], [1j, 0]], dtype = 'complex_')\n",
    "Z_gate = np.array([[1, 0], [0, -1]], dtype = 'complex_')\n",
    "\n",
    "def R_x(theta):\n",
    "    return np.array([[np.cos(theta/2), -1j*np.sin(theta/2)], [-1j*np.sin(theta/2), np.cos(theta/2)]], dtype = 'complex_')\n",
    "\n",
    "def R_y(theta):\n",
    "    return np.array([[np.cos(theta/2), -1j*np.sin(theta/2)], [np.sin(theta/2), np.cos(theta/2)]], dtype = 'complex_')\n",
    "\n",
    "def R_z(theta):\n",
    "    return np.array([[np.exp(-1j*theta/2), 0], [0, np.exp(1j*theta/2)]], dtype = 'complex_')"
   ]
  },
  {
   "attachments": {},
   "cell_type": "markdown",
   "metadata": {},
   "source": [
    "## Hamiltonian"
   ]
  },
  {
   "cell_type": "code",
   "execution_count": 3,
   "metadata": {},
   "outputs": [
    {
     "name": "stdout",
     "output_type": "stream",
     "text": [
      "[[ 0.+1.j  1.+2.j]\n",
      " [-1.+2.j  0.+1.j]]\n"
     ]
    }
   ],
   "source": [
    "H = X_gate @ X_gate @ Y_gate @ Z_gate + X_gate @ Y_gate @ Z_gate + Y_gate @ Z_gate + Z_gate @ X_gate\n",
    "print(H)"
   ]
  },
  {
   "attachments": {},
   "cell_type": "markdown",
   "metadata": {},
   "source": [
    "## Block encoding"
   ]
  },
  {
   "attachments": {},
   "cell_type": "markdown",
   "metadata": {},
   "source": [
    "$$\n",
    "U =\n",
    "\\begin{bmatrix}\n",
    "\\mathcal{H} & \\cdot \\\\\n",
    "\\cdot & \\cdot\n",
    "\\end{bmatrix}\n",
    "=\n",
    "\\begin{bmatrix}\n",
    "\\mathcal{H} & \\sqrt{I - \\mathcal{H}^2} \\\\\n",
    "\\sqrt{I - \\mathcal{H}^2} & -\\mathcal{H}\n",
    "\\end{bmatrix}\n",
    "=\n",
    "Z \\otimes \\mathcal{H} + \\mathcal{H} \\otimes \\sqrt{\\mathcal{I} - \\mathcal{H}^2}\n",
    "$$"
   ]
  },
  {
   "cell_type": "code",
   "execution_count": 4,
   "metadata": {},
   "outputs": [],
   "source": [
    "def U(H):\n",
    "    '''\n",
    "    Returns a block encoding of a Hamiltonian matrix\n",
    "    '''\n",
    "    return np.kron(Z_gate, H) + np.kron(X_gate, np.sqrt(np.eye(2) - sqrtm(H)))"
   ]
  },
  {
   "cell_type": "code",
   "execution_count": 5,
   "metadata": {},
   "outputs": [
    {
     "name": "stdout",
     "output_type": "stream",
     "text": [
      "[[ 0.        +1.j          1.        +2.j          0.32831659-0.36996932j\n",
      "   0.4358115 -0.93136437j]\n",
      " [-1.        +2.j          0.        +1.j          0.80632047-0.63813679j\n",
      "   0.32831659-0.36996932j]\n",
      " [ 0.32831659-0.36996932j  0.4358115 -0.93136437j  0.        -1.j\n",
      "  -1.        -2.j        ]\n",
      " [ 0.80632047-0.63813679j  0.32831659-0.36996932j  1.        -2.j\n",
      "   0.        -1.j        ]]\n"
     ]
    }
   ],
   "source": [
    "print(U(H))"
   ]
  },
  {
   "attachments": {},
   "cell_type": "markdown",
   "metadata": {},
   "source": [
    "## Projector"
   ]
  },
  {
   "attachments": {},
   "cell_type": "markdown",
   "metadata": {},
   "source": [
    "For $\\mathcal{H} \\in \\mathbb{C}^{2 \\times 2}$ the projector must be $\\Pi =\n",
    "\\begin{bmatrix}\n",
    "\\mathit{I}_2 & \\cdot \\\\\n",
    "\\cdot & \\cdot\n",
    "\\end{bmatrix}$"
   ]
  },
  {
   "cell_type": "code",
   "execution_count": 6,
   "metadata": {},
   "outputs": [],
   "source": [
    "projector = np.block([[np.eye(2), np.zeros((2,2))], [np.zeros((2,2)), np.zeros((2,2))]])"
   ]
  },
  {
   "attachments": {},
   "cell_type": "markdown",
   "metadata": {},
   "source": [
    "The projector-controlled phase-shift operation is defines ad $\\Pi_{\\phi} = e^{i\\phi (2\\Pi-I)}$"
   ]
  },
  {
   "cell_type": "code",
   "execution_count": 7,
   "metadata": {},
   "outputs": [],
   "source": [
    "def phase_shift(phi):\n",
    "    '''\n",
    "    performs the projector-controlled phase shift operation for a given phase phi and a globaly defined projector Pi\n",
    "    '''\n",
    "    return expm(1j*phi*(2*projector - np.eye(projector.shape[0])))"
   ]
  },
  {
   "attachments": {},
   "cell_type": "markdown",
   "metadata": {},
   "source": [
    "## Eigenvalue Transformation"
   ]
  },
  {
   "attachments": {},
   "cell_type": "markdown",
   "metadata": {},
   "source": [
    "$$\n",
    "U_{\\vec{\\phi}} = \\prod_{k=1}^{d/2} \\Pi_{\\phi_{2k-1}} U^{\\dagger} \\Pi_{\\phi_{2k}} U\n",
    "$$"
   ]
  },
  {
   "cell_type": "code",
   "execution_count": 8,
   "metadata": {},
   "outputs": [],
   "source": [
    "def eigenval_transform(phi_vec, U):\n",
    "    '''\n",
    "    Performs the eigenvalue transformation\n",
    "    '''\n",
    "    d = len(phi_vec) - 1\n",
    "    U_dagger = np.conj(U).T\n",
    "    if (d % 2 == 0):\n",
    "        result = 1\n",
    "        for k in range(1, d//2):\n",
    "            result = result @ phase_shift(phi_ve[2*k-1]) @ U_dagger @ phase_shift(phi_vec[2*k]) @ U\n",
    "        return result\n",
    "    else:\n",
    "        result = phase_shift(phi_vec[1]) @ U\n",
    "        for k in range (1, (d-1)//2):\n",
    "            result = result @ phase_shift(phi_vec[2*k]) @ U_dagger @ phase_shift(phi_vec[2*k+1]) @ U\n",
    "        return result"
   ]
  },
  {
   "attachments": {},
   "cell_type": "markdown",
   "metadata": {},
   "source": [
    "## Trivial Example"
   ]
  },
  {
   "cell_type": "code",
   "execution_count": 32,
   "metadata": {},
   "outputs": [
    {
     "name": "stdout",
     "output_type": "stream",
     "text": [
      "[[ 0.+1.j  1.+2.j]\n",
      " [-1.+2.j  0.+1.j]]\n",
      "[[ 0.+1.j  1.+2.j  0.+0.j  0.+0.j]\n",
      " [-1.+2.j  0.+1.j  0.+0.j  0.+0.j]\n",
      " [ 0.+0.j  0.+0.j  0.+0.j  0.+0.j]\n",
      " [ 0.+0.j  0.+0.j  0.+0.j  0.+0.j]]\n",
      "[[ 1.66533454e-16+1.j  1.00000000e+00+2.j]\n",
      " [-1.00000000e+00+2.j  2.77555756e-17+1.j]]\n"
     ]
    }
   ],
   "source": [
    "phi_vec_triv = [0, 0]\n",
    "transformed = eigenval_transform(phi_vec_triv, U(H))\n",
    "\n",
    "print(H)\n",
    "print(projector @ transformed @ projector)\n",
    "\n",
    "w, v = np.linalg.eig(H)\n",
    "\n",
    "poly_H = w[0] * v[0].reshape(2, 1) @ v[0].reshape(1, 2).conjugate() + w[1] * v[1].reshape(2, 1) @ v[1].reshape(1, 2).conjugate()\n",
    "print(poly_H)"
   ]
  },
  {
   "cell_type": "code",
   "execution_count": null,
   "metadata": {},
   "outputs": [],
   "source": []
  }
 ],
 "metadata": {
  "kernelspec": {
   "display_name": "Python 3",
   "language": "python",
   "name": "python3"
  },
  "language_info": {
   "codemirror_mode": {
    "name": "ipython",
    "version": 3
   },
   "file_extension": ".py",
   "mimetype": "text/x-python",
   "name": "python",
   "nbconvert_exporter": "python",
   "pygments_lexer": "ipython3",
   "version": "3.11.0"
  },
  "orig_nbformat": 4
 },
 "nbformat": 4,
 "nbformat_minor": 2
}
