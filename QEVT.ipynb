{
 "cells": [
  {
   "attachments": {},
   "cell_type": "markdown",
   "metadata": {},
   "source": [
    "# Quantum Eigenvalue Transformation"
   ]
  },
  {
   "cell_type": "code",
   "execution_count": 2,
   "metadata": {},
   "outputs": [],
   "source": [
    "import numpy as np\n",
    "from scipy.linalg import expm, sinm, cosm, sqrtm\n",
    "import matplotlib.pyplot as plt"
   ]
  },
  {
   "cell_type": "code",
   "execution_count": 3,
   "metadata": {},
   "outputs": [],
   "source": [
    "X_gate = np.array([[0, 1], [1, 0]], dtype = 'complex_')\n",
    "Y_gate = np.array([[0, -1j], [1j, 0]], dtype = 'complex_')\n",
    "Z_gate = np.array([[1, 0], [0, -1]], dtype = 'complex_')\n",
    "\n",
    "H_gate = np.array([[1, 1], [1, -1]], dtype = 'complex_') / np.sqrt(2)\n",
    "\n",
    "def R_x(theta):\n",
    "    return np.array([[np.cos(theta/2), -1j*np.sin(theta/2)], [-1j*np.sin(theta/2), np.cos(theta/2)]], dtype = 'complex_')\n",
    "\n",
    "def R_y(theta):\n",
    "    return np.array([[np.cos(theta/2), -1j*np.sin(theta/2)], [np.sin(theta/2), np.cos(theta/2)]], dtype = 'complex_')\n",
    "\n",
    "def R_z(theta):\n",
    "    return np.array([[np.exp(-1j*theta/2), 0], [0, np.exp(1j*theta/2)]], dtype = 'complex_')"
   ]
  },
  {
   "attachments": {},
   "cell_type": "markdown",
   "metadata": {},
   "source": [
    "## Hamiltonian"
   ]
  },
  {
   "cell_type": "code",
   "execution_count": 4,
   "metadata": {},
   "outputs": [
    {
     "name": "stdout",
     "output_type": "stream",
     "text": [
      "[[ 0.+1.j  1.+2.j]\n",
      " [-1.+2.j  0.+1.j]]\n"
     ]
    }
   ],
   "source": [
    "H = X_gate @ X_gate @ Y_gate @ Z_gate + X_gate @ Y_gate @ Z_gate + Y_gate @ Z_gate + Z_gate @ X_gate\n",
    "print(H)"
   ]
  },
  {
   "attachments": {},
   "cell_type": "markdown",
   "metadata": {},
   "source": [
    "## Block encoding"
   ]
  },
  {
   "attachments": {},
   "cell_type": "markdown",
   "metadata": {},
   "source": [
    "$$\n",
    "U =\n",
    "\\begin{bmatrix}\n",
    "\\mathcal{H} & \\cdot \\\\\n",
    "\\cdot & \\cdot\n",
    "\\end{bmatrix}\n",
    "=\n",
    "\\begin{bmatrix}\n",
    "\\mathcal{H} & \\sqrt{I - \\mathcal{H}^2} \\\\\n",
    "\\sqrt{I - \\mathcal{H}^2} & -\\mathcal{H}\n",
    "\\end{bmatrix}\n",
    "=\n",
    "Z \\otimes \\mathcal{H} + \\mathcal{H} \\otimes \\sqrt{\\mathcal{I} - \\mathcal{H}^2}\n",
    "$$"
   ]
  },
  {
   "cell_type": "code",
   "execution_count": 5,
   "metadata": {},
   "outputs": [],
   "source": [
    "def U(H):\n",
    "    '''\n",
    "    Returns a block encoding of a Hamiltonian matrix\n",
    "    '''\n",
    "    return np.kron(Z_gate, H) + np.kron(X_gate, np.sqrt(np.eye(2) - sqrtm(H)))"
   ]
  },
  {
   "cell_type": "code",
   "execution_count": 6,
   "metadata": {},
   "outputs": [
    {
     "name": "stdout",
     "output_type": "stream",
     "text": [
      "[[ 0.        +1.j          1.        +2.j          0.32831659-0.36996932j\n",
      "   0.4358115 -0.93136437j]\n",
      " [-1.        +2.j          0.        +1.j          0.80632047-0.63813679j\n",
      "   0.32831659-0.36996932j]\n",
      " [ 0.32831659-0.36996932j  0.4358115 -0.93136437j  0.        -1.j\n",
      "  -1.        -2.j        ]\n",
      " [ 0.80632047-0.63813679j  0.32831659-0.36996932j  1.        -2.j\n",
      "   0.        -1.j        ]]\n"
     ]
    }
   ],
   "source": [
    "print(U(H))"
   ]
  },
  {
   "attachments": {},
   "cell_type": "markdown",
   "metadata": {},
   "source": [
    "## Projector"
   ]
  },
  {
   "attachments": {},
   "cell_type": "markdown",
   "metadata": {},
   "source": [
    "For $\\mathcal{H} \\in \\mathbb{C}^{2 \\times 2}$ the projector must be $\\Pi =\n",
    "\\begin{bmatrix}\n",
    "\\mathit{I}_2 & \\cdot \\\\\n",
    "\\cdot & \\cdot\n",
    "\\end{bmatrix}$"
   ]
  },
  {
   "cell_type": "code",
   "execution_count": 7,
   "metadata": {},
   "outputs": [],
   "source": [
    "projector = np.block([[np.eye(2), np.zeros((2,2))], [np.zeros((2,2)), np.zeros((2,2))]])"
   ]
  },
  {
   "attachments": {},
   "cell_type": "markdown",
   "metadata": {},
   "source": [
    "The projector-controlled phase-shift operation is defines as $\\Pi_{\\phi} = e^{i\\phi (2\\Pi-I)}$"
   ]
  },
  {
   "cell_type": "code",
   "execution_count": 8,
   "metadata": {},
   "outputs": [],
   "source": [
    "def phase_shift(phi):\n",
    "    '''\n",
    "    performs the projector-controlled phase shift operation for a given phase phi and a globaly defined projector Pi\n",
    "    '''\n",
    "    return expm(1j*phi*(2*projector - np.eye(projector.shape[0])))"
   ]
  },
  {
   "attachments": {},
   "cell_type": "markdown",
   "metadata": {},
   "source": [
    "A controlled version of the projector-controlled phase-shift operation is defined as $C(\\Pi_{\\phi})$"
   ]
  },
  {
   "cell_type": "code",
   "execution_count": 9,
   "metadata": {},
   "outputs": [],
   "source": [
    "def c_phase_shift(phi):\n",
    "    Pi_phi = phase_shift(phi)\n",
    "    zero_projector = np.outer([1, 0], [1, 0])\n",
    "    one_projector = np.outer([0, 1], [0, 1])\n",
    "    c_phase_shift = np.kron(zero_projector, np.eye(4)) + np.kron(one_projector, Pi_phi)\n",
    "    return c_phase_shift"
   ]
  },
  {
   "attachments": {},
   "cell_type": "markdown",
   "metadata": {},
   "source": [
    "## Eigenvalue Transformation"
   ]
  },
  {
   "attachments": {},
   "cell_type": "markdown",
   "metadata": {},
   "source": [
    "$$\n",
    "U_{\\vec{\\phi}} = \\prod_{k=1}^{d/2} \\Pi_{\\phi_{2k-1}} U^{\\dagger} \\Pi_{\\phi_{2k}} U\n",
    "$$"
   ]
  },
  {
   "cell_type": "code",
   "execution_count": 10,
   "metadata": {},
   "outputs": [],
   "source": [
    "def eigenval_transform(phi_vec, U):\n",
    "    '''\n",
    "    Performs the eigenvalue transformation\n",
    "    '''\n",
    "    d = len(phi_vec) - 1\n",
    "    U_dagger = np.conj(U).T\n",
    "    if (d % 2 == 0):\n",
    "        result = 1\n",
    "        for k in range(1, d//2):\n",
    "            result = result @ phase_shift(phi_vec[2*k-1]) @ U_dagger @ phase_shift(phi_vec[2*k]) @ U\n",
    "        return result\n",
    "    else:\n",
    "        result = phase_shift(phi_vec[1]) @ U\n",
    "        for k in range (1, (d-1)//2):\n",
    "            result = result @ phase_shift(phi_vec[2*k]) @ U_dagger @ phase_shift(phi_vec[2*k+1]) @ U\n",
    "        return result"
   ]
  },
  {
   "attachments": {},
   "cell_type": "markdown",
   "metadata": {},
   "source": [
    "## Trivial Example"
   ]
  },
  {
   "cell_type": "code",
   "execution_count": 11,
   "metadata": {},
   "outputs": [
    {
     "name": "stdout",
     "output_type": "stream",
     "text": [
      "original Hamiltonian\n",
      "[[ 0.+1.j  1.+2.j]\n",
      " [-1.+2.j  0.+1.j]]\n",
      "\n",
      "\n",
      "transformed\n",
      "[[ 0.+1.j  1.+2.j  0.+0.j  0.+0.j]\n",
      " [-1.+2.j  0.+1.j  0.+0.j  0.+0.j]\n",
      " [ 0.+0.j  0.+0.j  0.+0.j  0.+0.j]\n",
      " [ 0.+0.j  0.+0.j  0.+0.j  0.+0.j]]\n",
      "\n",
      "\n",
      "expected eigenvalues\n",
      "[[ 1.66533454e-16+1.j  1.00000000e+00+2.j]\n",
      " [-1.00000000e+00+2.j  2.77555756e-17+1.j]]\n"
     ]
    }
   ],
   "source": [
    "# apply eigenvalue transformation\n",
    "phi_vec_triv = [0, 0]\n",
    "transformed = eigenval_transform(phi_vec_triv, U(H))\n",
    "\n",
    "# print original Hamiltonian\n",
    "print(\"original Hamiltonian\")\n",
    "print(H)\n",
    "print(\"\\n\")\n",
    "# print transformed output\n",
    "print(\"transformed\")\n",
    "print(projector @ transformed @ projector)\n",
    "print(\"\\n\")\n",
    "\n",
    "# calculate the expected result\n",
    "print(\"expected eigenvalues\")\n",
    "w, v = np.linalg.eig(H)\n",
    "poly_H = w[0] * v[0].reshape(2, 1) @ v[0].reshape(1, 2).conjugate() + w[1] * v[1].reshape(2, 1) @ v[1].reshape(1, 2).conjugate()\n",
    "print(poly_H)"
   ]
  },
  {
   "attachments": {},
   "cell_type": "markdown",
   "metadata": {},
   "source": [
    "## Controlled QSVT"
   ]
  },
  {
   "attachments": {},
   "cell_type": "markdown",
   "metadata": {},
   "source": [
    "$$\n",
    "C(U_{\\vec{\\phi}}) = \\prod_{k=1}^{d/2} C(\\Pi_{\\phi_{2k-1}}) U^{\\dagger} C(\\Pi_{\\phi_{2k}}) U\n",
    "$$"
   ]
  },
  {
   "cell_type": "code",
   "execution_count": 12,
   "metadata": {},
   "outputs": [],
   "source": [
    "def C_QSVT(phi_vec, U):\n",
    "    '''\n",
    "    Performs the controlled quantum singular value transformation\n",
    "    '''\n",
    "    # extend U\n",
    "    zero_projector = np.outer([1, 0], [1, 0])\n",
    "    one_projector = np.outer([0, 1], [0, 1])\n",
    "    U = np.kron(zero_projector, np.eye(4)) + np.kron(one_projector, U)\n",
    "\n",
    "    d = len(phi_vec) - 1\n",
    "    U_dagger = np.conj(U).T\n",
    "    if (d % 2 == 0):\n",
    "        result = np.eye(8)\n",
    "        for k in range(1, d//2):\n",
    "            result = result @ c_phase_shift(phi_vec[2*k-1]) @ U_dagger @ c_phase_shift(phi_vec[2*k]) @ U\n",
    "        return result\n",
    "    else:\n",
    "        result = c_phase_shift(phi_vec[1]) @ U\n",
    "        for k in range (1, (d-1)//2):\n",
    "            result = result @ c_phase_shift(phi_vec[2*k]) @ U_dagger @ c_phase_shift(phi_vec[2*k+1]) @ U\n",
    "        return result"
   ]
  },
  {
   "attachments": {},
   "cell_type": "markdown",
   "metadata": {},
   "source": [
    "## The Eigenvalue Threshold Problem"
   ]
  },
  {
   "attachments": {},
   "cell_type": "markdown",
   "metadata": {},
   "source": [
    "#### Calculate the phase angles"
   ]
  },
  {
   "cell_type": "code",
   "execution_count": 13,
   "metadata": {},
   "outputs": [
    {
     "name": "stdout",
     "output_type": "stream",
     "text": [
      "[pyqsp.poly.PolyEfilter] degree=30, delta=0.3\n",
      "[PolyTaylorSeries] max [0.94955034] is at [2.19000128e-08]: normalizing\n",
      "[PolyTaylorSeries] average error = 0.009629178075583878 in the domain [-1, 1] using degree 30\n"
     ]
    },
    {
     "name": "stderr",
     "output_type": "stream",
     "text": [
      "c:\\Python311\\Lib\\site-packages\\scipy\\interpolate\\_polyint.py:502: UserWarning: 31 degrees provided, degrees higher than about thirty cause problems with numerical instability with 'KroghInterpolator'\n",
      "  P = KroghInterpolator(xs, f(xs))\n"
     ]
    },
    {
     "data": {
      "text/plain": [
       "[<matplotlib.lines.Line2D at 0x1a35ed21950>]"
      ]
     },
     "execution_count": 13,
     "metadata": {},
     "output_type": "execute_result"
    },
    {
     "data": {
      "image/png": "[encoded data removed]",
      "text/plain": [
       "<Figure size 640x480 with 1 Axes>"
      ]
     },
     "metadata": {},
     "output_type": "display_data"
    }
   ],
   "source": [
    "import pyqsp\n",
    "\n",
    "pg = pyqsp.poly.PolyEigenstateFiltering()\n",
    "pcoeffs, scale = pg.generate(30, 0.3, ensure_bounded=True, return_scale=True)\n",
    "poly_filt = np.polynomial.Polynomial(pcoeffs)\n",
    "poly_filt.degree()\n",
    "\n",
    "a_list = np.linspace(-1, 1, 201)\n",
    "plt.plot(a_list, poly_filt(a_list), label=\"polynomial\")\n",
    "\n",
    "\n",
    "def target_filt(x, delta, scale=1):\n",
    "    \"\"\"\n",
    "    Target function for eigenvalue filtering.\n",
    "    \"\"\"\n",
    "    return scale * (np.sign(x + 0.5*delta) - np.sign(x - 0.5*delta)) / 2\n",
    "\n",
    "plt.plot(a_list, target_filt(a_list, 0.3, scale=0.9), label=\"target function\")"
   ]
  },
  {
   "attachments": {},
   "cell_type": "markdown",
   "metadata": {},
   "source": [
    "### Actual result"
   ]
  },
  {
   "cell_type": "code",
   "execution_count": 14,
   "metadata": {},
   "outputs": [
    {
     "name": "stdout",
     "output_type": "stream",
     "text": [
      "measurement result\n",
      "[[8.38426914e+28+0.j]]\n"
     ]
    }
   ],
   "source": [
    "#phi_vec_eig_val_thresh = [0.73930816, -0.69010006, -0.63972139, -0.47754554, 0.81797049, 0.09205065, -0.87660105, 0.13460844, 0.23892207, 1.32216648, -2.90267058, 0.13460844, 2.2649916, 0.09205065, -2.32362216, 2.66404712, -0.63972139, -0.69010006, 2.31010449]\n",
    "phi_vec_eig_val_thresh = pcoeffs\n",
    "H_I_I = np.kron(H_gate, np.kron(np.eye(2), np.eye(2)))\n",
    "psi = np.array([[1],[0],[0],[0],[0],[0],[0],[0]])\n",
    "eig_val_thresh_circuit = H_I_I @ C_QSVT(phi_vec_eig_val_thresh, U(H)) @ H_I_I\n",
    "psi = eig_val_thresh_circuit @ psi\n",
    "\n",
    "# M_000 = |000><000| + |001><001| + |010><010| + |011><011|\n",
    "M_000 = np.outer([1,0,0,0,0,0,0,0], [1,0,0,0,0,0,0,0]) + np.outer([0,1,0,0,0,0,0,0], [0,1,0,0,0,0,0,0]) + np.outer([0,0,1,0,0,0,0,0], [0,0,1,0,0,0,0,0]) + np.outer([0,0,0,1,0,0,0,0], [0,0,0,1,0,0,0,0])\n",
    "print(\"measurement result\")\n",
    "print(np.conj(psi).T @ np.conj(M_000).T @ M_000 @ psi)"
   ]
  },
  {
   "attachments": {},
   "cell_type": "markdown",
   "metadata": {},
   "source": [
    "$\\epsilon = \\frac14 \\zeta$"
   ]
  },
  {
   "attachments": {},
   "cell_type": "markdown",
   "metadata": {},
   "source": [
    "### Expexted result"
   ]
  },
  {
   "cell_type": "code",
   "execution_count": 15,
   "metadata": {},
   "outputs": [
    {
     "name": "stdout",
     "output_type": "stream",
     "text": [
      "expected eigenvalues\n",
      "[0.00000000e+00+3.23606798j 1.11022302e-16-1.23606798j]\n",
      "\n",
      "\n",
      "eigenvalues smaller that λ_lth - Δ_l?\n"
     ]
    },
    {
     "data": {
      "text/plain": [
       "[True, True]"
      ]
     },
     "execution_count": 15,
     "metadata": {},
     "output_type": "execute_result"
    }
   ],
   "source": [
    "print(\"expected eigenvalues\")\n",
    "w, v = np.linalg.eig(H)\n",
    "print(w)\n",
    "l_th = 0.3 / 2\n",
    "delta_l = 0.0\n",
    "\n",
    "print(\"\\n\")\n",
    "print(\"eigenvalues smaller that λ_lth - Δ_l?\")\n",
    "[l < (l_th - delta_l) for l in w]"
   ]
  },
  {
   "attachments": {},
   "cell_type": "markdown",
   "metadata": {},
   "source": [
    "## Hamiltonian Simulation"
   ]
  },
  {
   "attachments": {},
   "cell_type": "markdown",
   "metadata": {},
   "source": [
    "#### Sine"
   ]
  },
  {
   "cell_type": "code",
   "execution_count": 21,
   "metadata": {},
   "outputs": [
    {
     "name": "stdout",
     "output_type": "stream",
     "text": [
      "15.537708063830353\n",
      "R=7\n",
      "[PolySineTX] rescaling by 0.5.\n"
     ]
    },
    {
     "data": {
      "text/plain": [
       "[<matplotlib.lines.Line2D at 0x1a35ef4f150>]"
      ]
     },
     "execution_count": 21,
     "metadata": {},
     "output_type": "execute_result"
    },
    {
     "data": {
      "image/png": "[encoded data removed]",
      "text/plain": [
       "<Figure size 640x480 with 1 Axes>"
      ]
     },
     "metadata": {},
     "output_type": "display_data"
    }
   ],
   "source": [
    "pg = pyqsp.poly.PolySineTX()\n",
    "sin_pcoeffs, scale = pg.generate(10, 0.1, ensure_bounded=True, return_scale=True)\n",
    "poly_filt = np.polynomial.Polynomial(sin_pcoeffs)\n",
    "poly_filt.degree()\n",
    "\n",
    "a_list = np.linspace(-1, 1, 201)\n",
    "plt.plot(a_list, poly_filt(a_list), label=\"polynomial\")"
   ]
  },
  {
   "attachments": {},
   "cell_type": "markdown",
   "metadata": {},
   "source": [
    "#### Cosine"
   ]
  },
  {
   "cell_type": "code",
   "execution_count": 22,
   "metadata": {},
   "outputs": [
    {
     "name": "stdout",
     "output_type": "stream",
     "text": [
      "15.537708063830353\n",
      "R=7\n",
      "[PolyCosineTX] rescaling by 0.5.\n"
     ]
    },
    {
     "data": {
      "text/plain": [
       "[<matplotlib.lines.Line2D at 0x1a35b274a90>]"
      ]
     },
     "execution_count": 22,
     "metadata": {},
     "output_type": "execute_result"
    },
    {
     "data": {
      "image/png": "[encoded data removed]",
      "text/plain": [
       "<Figure size 640x480 with 1 Axes>"
      ]
     },
     "metadata": {},
     "output_type": "display_data"
    }
   ],
   "source": [
    "pg = pyqsp.poly.PolyCosineTX()\n",
    "cos_pcoeffs, scale = pg.generate(10, 0.1, ensure_bounded=True, return_scale=True)\n",
    "poly_filt = np.polynomial.Polynomial(cos_pcoeffs)\n",
    "poly_filt.degree()\n",
    "\n",
    "a_list = np.linspace(-1, 1, 201)\n",
    "plt.plot(a_list, poly_filt(a_list), label=\"polynomial\")"
   ]
  },
  {
   "attachments": {},
   "cell_type": "markdown",
   "metadata": {},
   "source": [
    "### Result"
   ]
  },
  {
   "cell_type": "code",
   "execution_count": 23,
   "metadata": {},
   "outputs": [
    {
     "name": "stdout",
     "output_type": "stream",
     "text": [
      "[[-3.76368095e+13+2.06506429e+13j -2.03503201e+13+2.98806731e+13j\n",
      "  -2.10129793e+13-9.07927278e+12j -2.13787603e+13+3.62372402e+12j\n",
      "   3.76368095e+13-2.06506429e+13j  2.03503201e+13-2.98806731e+13j\n",
      "   2.10129793e+13+9.07927278e+12j  2.13787603e+13-3.62372402e+12j]\n",
      " [-4.02175713e+13+2.95294173e+12j -2.90534868e+13+1.75903222e+13j\n",
      "  -1.43666372e+13-1.59506827e+13j -1.96411086e+13-5.25800644e+12j\n",
      "   4.02175713e+13-2.95294173e+12j  2.90534868e+13-1.75903222e+13j\n",
      "   1.43666372e+13+1.59506827e+13j  1.96411086e+13+5.25800644e+12j]\n",
      " [-3.86345130e+13-1.81152512e+13j -3.58915752e+13+1.16082692e+12j\n",
      "  -5.21292946e+12-2.23496107e+13j -1.56569148e+13-1.51008359e+13j\n",
      "   3.86345130e+13+1.81152512e+13j  3.58915752e+13-1.16082692e+12j\n",
      "   5.21292946e+12+2.23496107e+13j  1.56569148e+13+1.51008359e+13j]\n",
      " [-2.73692614e+13-2.97184302e+13j -3.18673997e+13-1.18400517e+13j\n",
      "   3.43881211e+12-2.14991475e+13j -8.32852320e+12-1.88810608e+13j\n",
      "   2.73692614e+13+2.97184302e+13j  3.18673997e+13+1.18400517e+13j\n",
      "  -3.43881211e+12+2.14991475e+13j  8.32852320e+12+1.88810608e+13j]\n",
      " [ 3.76368095e+13-2.06506429e+13j  2.03503201e+13-2.98806731e+13j\n",
      "   2.10129793e+13+9.07927278e+12j  2.13787603e+13-3.62372402e+12j\n",
      "  -3.76368095e+13+2.06506429e+13j -2.03503201e+13+2.98806731e+13j\n",
      "  -2.10129793e+13-9.07927278e+12j -2.13787603e+13+3.62372402e+12j]\n",
      " [ 4.02175713e+13-2.95294173e+12j  2.90534868e+13-1.75903222e+13j\n",
      "   1.43666372e+13+1.59506827e+13j  1.96411086e+13+5.25800644e+12j\n",
      "  -4.02175713e+13+2.95294173e+12j -2.90534868e+13+1.75903222e+13j\n",
      "  -1.43666372e+13-1.59506827e+13j -1.96411086e+13-5.25800644e+12j]\n",
      " [ 3.86345130e+13+1.81152512e+13j  3.58915752e+13-1.16082692e+12j\n",
      "   5.21292946e+12+2.23496107e+13j  1.56569148e+13+1.51008359e+13j\n",
      "  -3.86345130e+13-1.81152512e+13j -3.58915752e+13+1.16082692e+12j\n",
      "  -5.21292946e+12-2.23496107e+13j -1.56569148e+13-1.51008359e+13j]\n",
      " [ 2.73692614e+13+2.97184302e+13j  3.18673997e+13+1.18400517e+13j\n",
      "  -3.43881211e+12+2.14991475e+13j  8.32852320e+12+1.88810608e+13j\n",
      "  -2.73692614e+13-2.97184302e+13j -3.18673997e+13-1.18400517e+13j\n",
      "   3.43881211e+12-2.14991475e+13j -8.32852320e+12-1.88810608e+13j]]\n"
     ]
    }
   ],
   "source": [
    "H_I_I = np.kron(H_gate, np.kron(np.eye(2), np.eye(2)))\n",
    "psi = np.array([[1],[0],[0],[0],[0],[0],[0],[0]])\n",
    "hsim_circuit = H_I_I @ C_QSVT(sin_pcoeffs, U(H)) @ C_QSVT(cos_pcoeffs, U(H)) @ H_I_I\n",
    "psi = hsim_circuit @ psi\n",
    "\n",
    "print(hsim_circuit)"
   ]
  },
  {
   "attachments": {},
   "cell_type": "markdown",
   "metadata": {},
   "source": [
    "### Expected result"
   ]
  },
  {
   "cell_type": "code",
   "execution_count": 24,
   "metadata": {},
   "outputs": [
    {
     "data": {
      "text/plain": [
       "array([[5.66284483e+13+0.0000000e+00j, 5.06500239e+13-2.5325012e+13j],\n",
       "       [5.06500239e+13+2.5325012e+13j, 5.66284483e+13+0.0000000e+00j]])"
      ]
     },
     "execution_count": 24,
     "metadata": {},
     "output_type": "execute_result"
    }
   ],
   "source": [
    "expm(-1j*H*10)"
   ]
  },
  {
   "cell_type": "code",
   "execution_count": null,
   "metadata": {},
   "outputs": [],
   "source": []
  }
 ],
 "metadata": {
  "kernelspec": {
   "display_name": "Python 3",
   "language": "python",
   "name": "python3"
  },
  "language_info": {
   "codemirror_mode": {
    "name": "ipython",
    "version": 3
   },
   "file_extension": ".py",
   "mimetype": "text/x-python",
   "name": "python",
   "nbconvert_exporter": "python",
   "pygments_lexer": "ipython3",
   "version": "3.11.0"
  },
  "orig_nbformat": 4
 },
 "nbformat": 4,
 "nbformat_minor": 2
}
