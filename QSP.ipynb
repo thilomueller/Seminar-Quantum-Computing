{
 "cells": [
  {
   "cell_type": "code",
   "execution_count": 2,
   "metadata": {},
   "outputs": [],
   "source": [
    "import sympy as sp\n",
    "from sympy import *\n",
    "from sympy.plotting import plot\n",
    "\n",
    "\n",
    "import IPython.display as disp\n",
    "\n",
    "sp.init_printing(use_latex='mathjax')\n",
    "\n",
    "from qutip import *\n",
    "import numpy as np\n",
    "import matplotlib.pyplot as plt"
   ]
  },
  {
   "cell_type": "code",
   "execution_count": 3,
   "metadata": {},
   "outputs": [],
   "source": [
    "X_gate = sp.Matrix([[0, 1], [1, 0]])\n",
    "Y_gate = sp.Matrix([[0, -I], [I, 0]])\n",
    "Z_gate = sp.Matrix([[1, 0], [0, -1]])"
   ]
  },
  {
   "cell_type": "code",
   "execution_count": 4,
   "metadata": {},
   "outputs": [
    {
     "data": {
      "text/latex": [
       "$\\displaystyle \\left[\\begin{matrix}a & i \\sqrt{1 - a^{2}}\\\\i \\sqrt{1 - a^{2}} & a\\end{matrix}\\right]$"
      ],
      "text/plain": [
       "⎡                    ________⎤\n",
       "⎢                   ╱      2 ⎥\n",
       "⎢      a        ⅈ⋅╲╱  1 - a  ⎥\n",
       "⎢                            ⎥\n",
       "⎢     ________               ⎥\n",
       "⎢    ╱      2                ⎥\n",
       "⎣ⅈ⋅╲╱  1 - a          a      ⎦"
      ]
     },
     "metadata": {},
     "output_type": "display_data"
    }
   ],
   "source": [
    "a = sp.Symbol('a')\n",
    "phi = sp.Symbol('\\phi')\n",
    "W = sp.Matrix([[a, I*sp.sqrt(1-a**2)], [I*sp.sqrt(1-a**2), a]])\n",
    "#S = sp.exp(I*phi*Z_gate)\n",
    "disp.display(W)\n",
    "\n",
    "def S(phi_vec, k):\n",
    "    return sp.exp(I*phi_vec[k]*Z_gate)"
   ]
  },
  {
   "cell_type": "code",
   "execution_count": 5,
   "metadata": {},
   "outputs": [
    {
     "data": {
      "text/latex": [
       "$\\displaystyle \\left[\\begin{matrix}i & 0\\\\0 & - i\\end{matrix}\\right]$"
      ],
      "text/plain": [
       "⎡ⅈ  0 ⎤\n",
       "⎢     ⎥\n",
       "⎣0  -ⅈ⎦"
      ]
     },
     "metadata": {},
     "output_type": "display_data"
    },
    {
     "data": {
      "text/latex": [
       "$\\displaystyle \\left[\\begin{matrix}1.0 e^{- 0.911738290968488 i} & 0\\\\0 & 1.0 e^{0.911738290968488 i}\\end{matrix}\\right]$"
      ],
      "text/plain": [
       "⎡     -0.911738290968488⋅ⅈ                          ⎤\n",
       "⎢1.0⋅ℯ                                 0            ⎥\n",
       "⎢                                                   ⎥\n",
       "⎢                                0.911738290968488⋅ⅈ⎥\n",
       "⎣            0              1.0⋅ℯ                   ⎦"
      ]
     },
     "metadata": {},
     "output_type": "display_data"
    },
    {
     "data": {
      "text/latex": [
       "$\\displaystyle \\left[\\begin{matrix}1.0 e^{1.82347658193698 i} & 0\\\\0 & 1.0 e^{- 1.82347658193698 i}\\end{matrix}\\right]$"
      ],
      "text/plain": [
       "⎡     1.82347658193698⋅ⅈ                          ⎤\n",
       "⎢1.0⋅ℯ                               0            ⎥\n",
       "⎢                                                 ⎥\n",
       "⎢                              -1.82347658193698⋅ⅈ⎥\n",
       "⎣           0             1.0⋅ℯ                   ⎦"
      ]
     },
     "metadata": {},
     "output_type": "display_data"
    },
    {
     "data": {
      "text/latex": [
       "$\\displaystyle \\left[\\begin{matrix}1 & 0\\\\0 & 1\\end{matrix}\\right]$"
      ],
      "text/plain": [
       "⎡1  0⎤\n",
       "⎢    ⎥\n",
       "⎣0  1⎦"
      ]
     },
     "metadata": {},
     "output_type": "display_data"
    },
    {
     "data": {
      "text/latex": [
       "$\\displaystyle \\left[\\begin{matrix}1.0 e^{- 1.82347658193698 i} & 0\\\\0 & 1.0 e^{1.82347658193698 i}\\end{matrix}\\right]$"
      ],
      "text/plain": [
       "⎡     -1.82347658193698⋅ⅈ                         ⎤\n",
       "⎢1.0⋅ℯ                                0           ⎥\n",
       "⎢                                                 ⎥\n",
       "⎢                               1.82347658193698⋅ⅈ⎥\n",
       "⎣           0              1.0⋅ℯ                  ⎦"
      ]
     },
     "metadata": {},
     "output_type": "display_data"
    },
    {
     "data": {
      "text/latex": [
       "$\\displaystyle \\left[\\begin{matrix}1.0 e^{0.911738290968488 i} & 0\\\\0 & 1.0 e^{- 0.911738290968488 i}\\end{matrix}\\right]$"
      ],
      "text/plain": [
       "⎡     0.911738290968488⋅ⅈ                           ⎤\n",
       "⎢1.0⋅ℯ                                 0            ⎥\n",
       "⎢                                                   ⎥\n",
       "⎢                               -0.911738290968488⋅ⅈ⎥\n",
       "⎣           0              1.0⋅ℯ                    ⎦"
      ]
     },
     "metadata": {},
     "output_type": "display_data"
    }
   ],
   "source": [
    "eta = sp.Symbol('\\eta')\n",
    "eta = 1/2*sp.acos(-1/4)\n",
    "phi_vector_bb1 = sp.Matrix([sp.pi/2, -eta, 2*eta, 0, -2*eta, eta])\n",
    "\n",
    "for i in range(len(phi_vector_bb1)):\n",
    "    disp.display(S(phi_vector_bb1, i))"
   ]
  },
  {
   "cell_type": "code",
   "execution_count": 6,
   "metadata": {},
   "outputs": [
    {
     "data": {
      "text/latex": [
       "$\\displaystyle 1.0 a^{2} \\cdot \\left(0.0546874999999639 - 0.998503518944102 i\\right) \\left(\\left(a^{2} - 1\\right) \\left(- a^{2} \\cdot \\left(0.306186217847903 - 1.18585412256314 i\\right) - \\left(0.306186217847903 - 1.18585412256314 i\\right) \\left(a^{2} - 1\\right) + 2 \\left(a^{2} e^{0.911738290968492 i} + \\left(a^{2} - 1\\right) e^{2.73521487290547 i}\\right) e^{3.64695316387396 i}\\right) e^{4.55869145484245 i} - \\left(a^{2} \\left(\\left(-0.306186217847903 + 1.18585412256314 i\\right) \\left(1 - a^{2}\\right) - \\left(a^{2} e^{0.911738290968492 i} + \\left(a^{2} - 1\\right) e^{2.73521487290547 i}\\right) e^{3.64695316387396 i}\\right) - \\left(a^{2} - 1\\right) \\left(- a^{2} \\cdot \\left(0.306186217847903 - 1.18585412256314 i\\right) + \\left(a^{2} e^{0.911738290968492 i} + \\left(a^{2} - 1\\right) e^{2.73521487290547 i}\\right) e^{3.64695316387396 i}\\right)\\right) e^{0.911738290968492 i}\\right)^{2}$"
      ],
      "text/plain": [
       "                                                                              \n",
       "     2                                            ⎛⎛ 2    ⎞ ⎛   2             \n",
       "1.0⋅a ⋅(0.0546874999999639 - 0.998503518944102⋅ⅈ)⋅⎝⎝a  - 1⎠⋅⎝- a ⋅(0.306186217\n",
       "\n",
       "                                                                              \n",
       "                                                                        ⎛ 2   \n",
       "847903 - 1.18585412256314⋅ⅈ) - (0.306186217847903 - 1.18585412256314⋅ⅈ)⋅⎝a  - \n",
       "\n",
       "                                                                              \n",
       " ⎞     ⎛ 2  0.911738290968492⋅ⅈ   ⎛ 2    ⎞  2.73521487290547⋅ⅈ⎞  3.64695316387\n",
       "1⎠ + 2⋅⎝a ⋅ℯ                    + ⎝a  - 1⎠⋅ℯ                  ⎠⋅ℯ             \n",
       "\n",
       "                                                                              \n",
       "396⋅ⅈ⎞  4.55869145484245⋅ⅈ   ⎛ 2 ⎛                                          ⎛ \n",
       "     ⎠⋅ℯ                   - ⎝a ⋅⎝(-0.306186217847903 + 1.18585412256314⋅ⅈ)⋅⎝1\n",
       "\n",
       "                                                                              \n",
       "    2⎞   ⎛ 2  0.911738290968492⋅ⅈ   ⎛ 2    ⎞  2.73521487290547⋅ⅈ⎞  3.646953163\n",
       " - a ⎠ - ⎝a ⋅ℯ                    + ⎝a  - 1⎠⋅ℯ                  ⎠⋅ℯ           \n",
       "\n",
       "                                                                              \n",
       "87396⋅ⅈ⎞   ⎛ 2    ⎞ ⎛   2                                            ⎛ 2  0.91\n",
       "       ⎠ - ⎝a  - 1⎠⋅⎝- a ⋅(0.306186217847903 - 1.18585412256314⋅ⅈ) + ⎝a ⋅ℯ    \n",
       "\n",
       "                                                                              \n",
       "1738290968492⋅ⅈ   ⎛ 2    ⎞  2.73521487290547⋅ⅈ⎞  3.64695316387396⋅ⅈ⎞⎞  0.91173\n",
       "                + ⎝a  - 1⎠⋅ℯ                  ⎠⋅ℯ                  ⎠⎠⋅ℯ       \n",
       "\n",
       "             2\n",
       "8290968492⋅ⅈ⎞ \n",
       "            ⎠ "
      ]
     },
     "metadata": {},
     "output_type": "display_data"
    },
    {
     "data": {
      "text/latex": [
       "$\\displaystyle 0.125 a^{2} \\cdot \\left(3 a^{8} - 18 a^{6} + 35 a^{4} - 45 a^{2} + 30\\right)$"
      ],
      "text/plain": [
       "       2 ⎛   8       6       4       2     ⎞\n",
       "0.125⋅a ⋅⎝3⋅a  - 18⋅a  + 35⋅a  - 45⋅a  + 30⎠"
      ]
     },
     "metadata": {},
     "output_type": "display_data"
    }
   ],
   "source": [
    "def QSP(phi_vector):\n",
    "    result = S(phi_vector, 0)\n",
    "    for i in range (1, len(phi_vector)):\n",
    "        result *= W * S(phi_vector, i)\n",
    "    return result\n",
    "\n",
    "theta = sp.Symbol('θ')\n",
    "theta = -2*sp.acos(a)\n",
    "bb1_analytical = 1/8*sp.cos(theta/2)**2 * (3*sp.cos(theta/2)**8 -  18*sp.cos(theta/2)**6 + 35*sp.cos(theta/2)**4 - 45*sp.cos(theta/2)**2 + 30) \n",
    "transformed = QSP(phi_vector_bb1)\n",
    "p = transformed[0,0]**2\n",
    "disp.display(p.simplify())\n",
    "disp.display(bb1_analytical)"
   ]
  },
  {
   "cell_type": "code",
   "execution_count": 7,
   "metadata": {},
   "outputs": [
    {
     "data": {
      "image/png": "[encoded data removed]",
      "text/plain": [
       "<Figure size 640x480 with 1 Axes>"
      ]
     },
     "metadata": {},
     "output_type": "display_data"
    }
   ],
   "source": [
    "p1 = plot(p, show=False)\n",
    "p2 = plot(bb1_analytical, show=False)\n",
    "p1.append(p2[0])\n",
    "p1.show()"
   ]
  },
  {
   "cell_type": "code",
   "execution_count": null,
   "metadata": {},
   "outputs": [],
   "source": []
  },
  {
   "cell_type": "code",
   "execution_count": 8,
   "metadata": {},
   "outputs": [
    {
     "data": {
      "text/latex": [
       "$\\displaystyle \\left[\\begin{matrix}4 a^{3} - 3 a & 2 i a^{2} \\sqrt{1 - a^{2}} + i \\sqrt{1 - a^{2}} \\cdot \\left(2 a^{2} - 1\\right)\\\\2 i a^{2} \\sqrt{1 - a^{2}} + i \\sqrt{1 - a^{2}} \\cdot \\left(2 a^{2} - 1\\right) & 4 a^{3} - 3 a\\end{matrix}\\right]$"
      ],
      "text/plain": [
       "⎡                                                         ________        ____\n",
       "⎢                    3                               2   ╱      2        ╱    \n",
       "⎢                 4⋅a  - 3⋅a                    2⋅ⅈ⋅a ⋅╲╱  1 - a   + ⅈ⋅╲╱  1 -\n",
       "⎢                                                                             \n",
       "⎢          ________        ________                                           \n",
       "⎢     2   ╱      2        ╱      2  ⎛   2    ⎞                      3         \n",
       "⎣2⋅ⅈ⋅a ⋅╲╱  1 - a   + ⅈ⋅╲╱  1 - a  ⋅⎝2⋅a  - 1⎠                   4⋅a  - 3⋅a   \n",
       "\n",
       "____           ⎤\n",
       "  2  ⎛   2    ⎞⎥\n",
       " a  ⋅⎝2⋅a  - 1⎠⎥\n",
       "               ⎥\n",
       "               ⎥\n",
       "               ⎥\n",
       "               ⎦"
      ]
     },
     "metadata": {},
     "output_type": "display_data"
    },
    {
     "data": {
      "text/latex": [
       "$\\displaystyle \\left|{a \\left(4 a^{2} - 3\\right)}\\right|^{2}$"
      ],
      "text/plain": [
       "              2\n",
       "│  ⎛   2    ⎞│ \n",
       "│a⋅⎝4⋅a  - 3⎠│ "
      ]
     },
     "metadata": {},
     "output_type": "display_data"
    },
    {
     "data": {
      "image/png": "[encoded data removed]",
      "text/plain": [
       "<Figure size 640x480 with 1 Axes>"
      ]
     },
     "metadata": {},
     "output_type": "display_data"
    },
    {
     "data": {
      "text/plain": [
       "<sympy.plotting.plot.Plot at 0x227e91aecd0>"
      ]
     },
     "execution_count": 8,
     "metadata": {},
     "output_type": "execute_result"
    }
   ],
   "source": [
    "signal = W**3\n",
    "poly = sp.Abs(signal[0,0].simplify())**2\n",
    "disp.display(signal)\n",
    "disp.display(poly)\n",
    "plot(poly)"
   ]
  },
  {
   "cell_type": "code",
   "execution_count": 61,
   "metadata": {},
   "outputs": [
    {
     "data": {
      "text/latex": [
       "$\\displaystyle -0.215811596823498 - 0.106601980967632 i$"
      ],
      "text/plain": [
       "-0.215811596823498 - 0.106601980967632⋅ⅈ"
      ]
     },
     "metadata": {},
     "output_type": "display_data"
    },
    {
     "data": {
      "text/latex": [
       "$\\displaystyle -0.667642202653661 - 0.218556711038181 i$"
      ],
      "text/plain": [
       "-0.667642202653661 - 0.218556711038181⋅ⅈ"
      ]
     },
     "metadata": {},
     "output_type": "display_data"
    },
    {
     "data": {
      "text/latex": [
       "$\\displaystyle -0.964447302928098 - 0.0973682299716263 i$"
      ],
      "text/plain": [
       "-0.964447302928098 - 0.0973682299716263⋅ⅈ"
      ]
     },
     "metadata": {},
     "output_type": "display_data"
    }
   ],
   "source": [
    "disp.display(p.subs('a', 1/sp.sqrt(14)).evalf())\n",
    "disp.display(p.subs('a', -2/sp.sqrt(14)).evalf())\n",
    "disp.display(p.subs('a', 3/sp.sqrt(14)).evalf())"
   ]
  },
  {
   "cell_type": "code",
   "execution_count": null,
   "metadata": {},
   "outputs": [],
   "source": []
  }
 ],
 "metadata": {
  "kernelspec": {
   "display_name": "Python 3",
   "language": "python",
   "name": "python3"
  },
  "language_info": {
   "codemirror_mode": {
    "name": "ipython",
    "version": 3
   },
   "file_extension": ".py",
   "mimetype": "text/x-python",
   "name": "python",
   "nbconvert_exporter": "python",
   "pygments_lexer": "ipython3",
   "version": "3.11.0"
  },
  "orig_nbformat": 4
 },
 "nbformat": 4,
 "nbformat_minor": 2
}
